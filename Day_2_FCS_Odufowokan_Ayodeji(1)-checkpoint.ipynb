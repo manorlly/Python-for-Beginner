{
 "cells": [
  {
   "cell_type": "markdown",
   "metadata": {
    "colab_type": "text",
    "id": "8fHuZcqBgjir"
   },
   "source": [
    "**Python Data Types and their default Functions**"
   ]
  },
  {
   "cell_type": "markdown",
   "metadata": {
    "colab_type": "text",
    "id": "cUPctHsdgxLB"
   },
   "source": [
    "\n",
    "\n",
    "1. List and its default Functions"
   ]
  },
  {
   "cell_type": "code",
   "execution_count": 0,
   "metadata": {
    "colab": {},
    "colab_type": "code",
    "id": "mOeUbjfmPbRe"
   },
   "outputs": [],
   "source": [
    "# Define the list variable\n",
    "list = [1, 2, 3, \"name\", 3.142, \"people\", \"class\", 4, 5, 6 ]"
   ]
  },
  {
   "cell_type": "code",
   "execution_count": 2,
   "metadata": {
    "colab": {
     "base_uri": "https://localhost:8080/",
     "height": 35
    },
    "colab_type": "code",
    "id": "PNtdQPrcZ8Ta",
    "outputId": "43dcc30b-b4b2-4a4c-d2ea-416dc1252362"
   },
   "outputs": [
    {
     "data": {
      "text/plain": [
       "[1, 2, 3, 'name', 3.142, 'people', 'class', 4, 5, 6]"
      ]
     },
     "execution_count": 2,
     "metadata": {
      "tags": []
     },
     "output_type": "execute_result"
    }
   ],
   "source": [
    "# Print the List variable\n",
    "list"
   ]
  },
  {
   "cell_type": "code",
   "execution_count": 0,
   "metadata": {
    "colab": {},
    "colab_type": "code",
    "id": "Y1taII8Kj_F3"
   },
   "outputs": [],
   "source": [
    "# Check Data type of list variable \n",
    "type(list)"
   ]
  },
  {
   "cell_type": "code",
   "execution_count": 4,
   "metadata": {
    "colab": {
     "base_uri": "https://localhost:8080/",
     "height": 35
    },
    "colab_type": "code",
    "id": "RH9VTTn6aFVK",
    "outputId": "1e00f6b4-72a3-4a03-993f-eee5ac445e37"
   },
   "outputs": [
    {
     "data": {
      "text/plain": [
       "[1, 2, 3, 'name', 3.142, 'people', 'class', 4, 5, 6, 2.2]"
      ]
     },
     "execution_count": 4,
     "metadata": {
      "tags": []
     },
     "output_type": "execute_result"
    }
   ],
   "source": [
    "list.append(2.2)\n",
    "list"
   ]
  },
  {
   "cell_type": "code",
   "execution_count": 7,
   "metadata": {
    "colab": {
     "base_uri": "https://localhost:8080/",
     "height": 35
    },
    "colab_type": "code",
    "id": "rMJJUL8paJrO",
    "outputId": "2053b849-57de-475a-dd82-4ff13093fe63"
   },
   "outputs": [
    {
     "data": {
      "text/plain": [
       "[]"
      ]
     },
     "execution_count": 7,
     "metadata": {
      "tags": []
     },
     "output_type": "execute_result"
    }
   ],
   "source": [
    "list.clear()\n",
    "list"
   ]
  },
  {
   "cell_type": "code",
   "execution_count": 8,
   "metadata": {
    "colab": {
     "base_uri": "https://localhost:8080/",
     "height": 35
    },
    "colab_type": "code",
    "id": "ab6PDxuhaX_M",
    "outputId": "8583a36c-bde7-4d2c-88c9-129566929ee0"
   },
   "outputs": [
    {
     "data": {
      "text/plain": [
       "[1, 2, 3, 'name', 3.142, 'people', 'class', 4, 5, 6]"
      ]
     },
     "execution_count": 8,
     "metadata": {
      "tags": []
     },
     "output_type": "execute_result"
    }
   ],
   "source": [
    "list = [1, 2, 3, \"name\", 3.142, \"people\", \"class\", 4, 5, 6 ]\n",
    "list"
   ]
  },
  {
   "cell_type": "code",
   "execution_count": 11,
   "metadata": {
    "colab": {
     "base_uri": "https://localhost:8080/",
     "height": 35
    },
    "colab_type": "code",
    "id": "TBJerEl7agm4",
    "outputId": "0d5b98ff-f960-45c5-882c-e706eba5898e"
   },
   "outputs": [
    {
     "data": {
      "text/plain": [
       "[1, 2, 3, 'name', 3.142, 'people', 'class', 4, 5, 6]"
      ]
     },
     "execution_count": 11,
     "metadata": {
      "tags": []
     },
     "output_type": "execute_result"
    }
   ],
   "source": [
    "list.copy()\n",
    "list"
   ]
  },
  {
   "cell_type": "code",
   "execution_count": 15,
   "metadata": {
    "colab": {
     "base_uri": "https://localhost:8080/",
     "height": 35
    },
    "colab_type": "code",
    "id": "OSPNxCPiaoT-",
    "outputId": "7b8a0daf-ef31-4880-a7b1-ab2cabc1cc5c"
   },
   "outputs": [
    {
     "data": {
      "text/plain": [
       "3"
      ]
     },
     "execution_count": 15,
     "metadata": {
      "tags": []
     },
     "output_type": "execute_result"
    }
   ],
   "source": [
    "list = [1, 2, 3, \"name\", 3.142, \"people\", \"class\", 2, 4, 5, 6, 2, 3]\n",
    "list.count(2)"
   ]
  },
  {
   "cell_type": "code",
   "execution_count": 20,
   "metadata": {
    "colab": {
     "base_uri": "https://localhost:8080/",
     "height": 35
    },
    "colab_type": "code",
    "id": "Ya75NT48a7Kn",
    "outputId": "5d4f9241-f585-4b1c-d92f-e6f3bcfa2f43"
   },
   "outputs": [
    {
     "data": {
      "text/plain": [
       "[1, 2, 3, 'name', 3.142, 'people', 'class', 4, 5, 6, 3, 4, 5]"
      ]
     },
     "execution_count": 20,
     "metadata": {
      "tags": []
     },
     "output_type": "execute_result"
    }
   ],
   "source": [
    "list = [1, 2, 3, \"name\", 3.142, \"people\", \"class\", 4, 5, 6 ]\n",
    "list2 = [3, 4, 5]\n",
    "list.extend(list2)\n",
    "list"
   ]
  },
  {
   "cell_type": "code",
   "execution_count": 30,
   "metadata": {
    "colab": {
     "base_uri": "https://localhost:8080/",
     "height": 35
    },
    "colab_type": "code",
    "id": "6PiDi3K1bTT3",
    "outputId": "988df10b-b450-4cc5-dab0-0181d39695e7"
   },
   "outputs": [
    {
     "data": {
      "text/plain": [
       "2"
      ]
     },
     "execution_count": 30,
     "metadata": {
      "tags": []
     },
     "output_type": "execute_result"
    }
   ],
   "source": [
    "list = [1, 2, 3, \"name\", 3.142, \"people\", \"class\", 4, 5, 6 ]\n",
    "list.index(3)"
   ]
  },
  {
   "cell_type": "code",
   "execution_count": 36,
   "metadata": {
    "colab": {
     "base_uri": "https://localhost:8080/",
     "height": 35
    },
    "colab_type": "code",
    "id": "kFcFtjlJcNBP",
    "outputId": "fd8fc2e3-fe07-4231-da3a-78baa77ce27b"
   },
   "outputs": [
    {
     "data": {
      "text/plain": [
       "[1, 2, 'insert', 3, 'name', 3.142, 'people', 'class', 4, 5, 6]"
      ]
     },
     "execution_count": 36,
     "metadata": {
      "tags": []
     },
     "output_type": "execute_result"
    }
   ],
   "source": [
    "list = [1, 2, 3, \"name\", 3.142, \"people\", \"class\", 4, 5, 6 ]\n",
    "list.insert(2, \"insert\")\n",
    "list"
   ]
  },
  {
   "cell_type": "code",
   "execution_count": 38,
   "metadata": {
    "colab": {
     "base_uri": "https://localhost:8080/",
     "height": 35
    },
    "colab_type": "code",
    "id": "LRwSXU32dXD2",
    "outputId": "d29c4e3f-e104-4884-e7a0-dc603b0c2f2b"
   },
   "outputs": [
    {
     "data": {
      "text/plain": [
       "[1, 2, 3, 'name', 3.142, 'people', 'class', 4, 5]"
      ]
     },
     "execution_count": 38,
     "metadata": {
      "tags": []
     },
     "output_type": "execute_result"
    }
   ],
   "source": [
    "list = [1, 2, 3, \"name\", 3.142, \"people\", \"class\", 4, 5, 6 ]\n",
    "list.pop()\n",
    "list"
   ]
  },
  {
   "cell_type": "code",
   "execution_count": 39,
   "metadata": {
    "colab": {
     "base_uri": "https://localhost:8080/",
     "height": 35
    },
    "colab_type": "code",
    "id": "_vqeX9Ywe2rF",
    "outputId": "bac454d0-d757-4768-e520-206a10891ee2"
   },
   "outputs": [
    {
     "data": {
      "text/plain": [
       "[1, 2, 3, 3.142, 'people', 'class', 4, 5, 6]"
      ]
     },
     "execution_count": 39,
     "metadata": {
      "tags": []
     },
     "output_type": "execute_result"
    }
   ],
   "source": [
    "list = [1, 2, 3, \"name\", 3.142, \"people\", \"class\", 4, 5, 6 ]\n",
    "list.remove(\"name\")\n",
    "list"
   ]
  },
  {
   "cell_type": "code",
   "execution_count": 40,
   "metadata": {
    "colab": {
     "base_uri": "https://localhost:8080/",
     "height": 35
    },
    "colab_type": "code",
    "id": "vuES-FqmfEHX",
    "outputId": "19409cc9-5cc8-4799-9fd7-e08faec4aab3"
   },
   "outputs": [
    {
     "data": {
      "text/plain": [
       "[6, 5, 4, 'class', 'people', 3.142, 'name', 3, 2, 1]"
      ]
     },
     "execution_count": 40,
     "metadata": {
      "tags": []
     },
     "output_type": "execute_result"
    }
   ],
   "source": [
    "list = [1, 2, 3, \"name\", 3.142, \"people\", \"class\", 4, 5, 6 ]\n",
    "list.reverse()\n",
    "list"
   ]
  },
  {
   "cell_type": "code",
   "execution_count": 44,
   "metadata": {
    "colab": {
     "base_uri": "https://localhost:8080/",
     "height": 35
    },
    "colab_type": "code",
    "id": "s4IAE2IAfKWw",
    "outputId": "b1a1ce6b-6abd-4f49-c51a-e3bd62a90fab"
   },
   "outputs": [
    {
     "data": {
      "text/plain": [
       "[1, 2, 3, 3.4, 4, 5, 6, 6, 7]"
      ]
     },
     "execution_count": 44,
     "metadata": {
      "tags": []
     },
     "output_type": "execute_result"
    }
   ],
   "source": [
    "list = [1, 2, 3, 3.4, 6, 7, 6, 5, 4]\n",
    "list.sort()\n",
    "list"
   ]
  },
  {
   "cell_type": "markdown",
   "metadata": {
    "colab_type": "text",
    "id": "fRPvzSgBhOZq"
   },
   "source": [
    "\n",
    "\n",
    "2. Dictionary and its default functions"
   ]
  },
  {
   "cell_type": "code",
   "execution_count": 0,
   "metadata": {
    "colab": {},
    "colab_type": "code",
    "id": "QmXp2OU7fPi1"
   },
   "outputs": [],
   "source": [
    "# Define the dict variable\n",
    "dict = {\"first_name\" : \"Ayodeji\", \"last_name\" : \"Odufowokan\", \"Age\" : 22, \"Sex\" : \"Male\"}"
   ]
  },
  {
   "cell_type": "code",
   "execution_count": 47,
   "metadata": {
    "colab": {
     "base_uri": "https://localhost:8080/",
     "height": 35
    },
    "colab_type": "code",
    "id": "cdcVbT8YfjAo",
    "outputId": "c0c702ac-460d-4b19-9975-3fa097a42b40"
   },
   "outputs": [
    {
     "data": {
      "text/plain": [
       "{'Age': 22, 'Sex': 'Male', 'first_name': 'Ayodeji', 'last_name': 'Odufowokan'}"
      ]
     },
     "execution_count": 47,
     "metadata": {
      "tags": []
     },
     "output_type": "execute_result"
    }
   ],
   "source": [
    "# Print the dict variable\n",
    "dict"
   ]
  },
  {
   "cell_type": "code",
   "execution_count": 0,
   "metadata": {
    "colab": {},
    "colab_type": "code",
    "id": "Z_Kz0u2jkd-q"
   },
   "outputs": [],
   "source": [
    "# Check Data type of dict variable \n",
    "type(dict)"
   ]
  },
  {
   "cell_type": "code",
   "execution_count": 49,
   "metadata": {
    "colab": {
     "base_uri": "https://localhost:8080/",
     "height": 35
    },
    "colab_type": "code",
    "id": "qJugnOXLh-a4",
    "outputId": "4722ff8e-2007-4aae-da41-99c4d7e03b48"
   },
   "outputs": [
    {
     "data": {
      "text/plain": [
       "{}"
      ]
     },
     "execution_count": 49,
     "metadata": {
      "tags": []
     },
     "output_type": "execute_result"
    }
   ],
   "source": [
    "dict.clear()\n",
    "dict"
   ]
  },
  {
   "cell_type": "code",
   "execution_count": 50,
   "metadata": {
    "colab": {
     "base_uri": "https://localhost:8080/",
     "height": 35
    },
    "colab_type": "code",
    "id": "w0sXWkA-iESZ",
    "outputId": "25c9b642-730a-4d77-d843-24b5d06c42b3"
   },
   "outputs": [
    {
     "data": {
      "text/plain": [
       "{'Age': 22, 'Sex': 'Male', 'first_name': 'Ayodeji', 'last_name': 'Odufowokan'}"
      ]
     },
     "execution_count": 50,
     "metadata": {
      "tags": []
     },
     "output_type": "execute_result"
    }
   ],
   "source": [
    "dict = {\"first_name\" : \"Ayodeji\", \"last_name\" : \"Odufowokan\", \"Age\" : 22, \"Sex\" : \"Male\"}\n",
    "dict.copy()"
   ]
  },
  {
   "cell_type": "code",
   "execution_count": 56,
   "metadata": {
    "colab": {
     "base_uri": "https://localhost:8080/",
     "height": 35
    },
    "colab_type": "code",
    "id": "0TWRt11ziNnC",
    "outputId": "69f6c004-bc47-44a7-e662-a7289e7829bb"
   },
   "outputs": [
    {
     "data": {
      "text/plain": [
       "{1: 'Age', 2: 'Age', 3: 'Age'}"
      ]
     },
     "execution_count": 56,
     "metadata": {
      "tags": []
     },
     "output_type": "execute_result"
    }
   ],
   "source": [
    "list = [1, 2, 3]\n",
    "dict.fromkeys(list, \"Age\")"
   ]
  },
  {
   "cell_type": "code",
   "execution_count": 59,
   "metadata": {
    "colab": {
     "base_uri": "https://localhost:8080/",
     "height": 35
    },
    "colab_type": "code",
    "id": "DQqk2MYRiffQ",
    "outputId": "a075541a-c0a5-45f1-df57-9d134662f671"
   },
   "outputs": [
    {
     "data": {
      "text/plain": [
       "'Ayodeji'"
      ]
     },
     "execution_count": 59,
     "metadata": {
      "tags": []
     },
     "output_type": "execute_result"
    }
   ],
   "source": [
    "dict = {\"first_name\" : \"Ayodeji\", \"last_name\" : \"Odufowokan\", \"Age\" : 22, \"Sex\" : \"Male\"}\n",
    "dict.get(\"first_name\")"
   ]
  },
  {
   "cell_type": "code",
   "execution_count": 60,
   "metadata": {
    "colab": {
     "base_uri": "https://localhost:8080/",
     "height": 35
    },
    "colab_type": "code",
    "id": "DgkVdhtqjnVz",
    "outputId": "e973d650-2b91-469f-c172-eeedcb005412"
   },
   "outputs": [
    {
     "data": {
      "text/plain": [
       "dict_items([('first_name', 'Ayodeji'), ('last_name', 'Odufowokan'), ('Age', 22), ('Sex', 'Male')])"
      ]
     },
     "execution_count": 60,
     "metadata": {
      "tags": []
     },
     "output_type": "execute_result"
    }
   ],
   "source": [
    "dict.items()"
   ]
  },
  {
   "cell_type": "code",
   "execution_count": 61,
   "metadata": {
    "colab": {
     "base_uri": "https://localhost:8080/",
     "height": 35
    },
    "colab_type": "code",
    "id": "x9lHN4qTj54Z",
    "outputId": "bc3e6fe7-eb7d-4a14-d9d9-533f65845cb4"
   },
   "outputs": [
    {
     "data": {
      "text/plain": [
       "dict_keys(['first_name', 'last_name', 'Age', 'Sex'])"
      ]
     },
     "execution_count": 61,
     "metadata": {
      "tags": []
     },
     "output_type": "execute_result"
    }
   ],
   "source": [
    "dict.keys()"
   ]
  },
  {
   "cell_type": "code",
   "execution_count": 65,
   "metadata": {
    "colab": {
     "base_uri": "https://localhost:8080/",
     "height": 35
    },
    "colab_type": "code",
    "id": "fV8mAmZwj_G8",
    "outputId": "766d3ef3-254e-493a-d3a9-bf2dd5a0cb63"
   },
   "outputs": [
    {
     "data": {
      "text/plain": [
       "{'Age': 22, 'first_name': 'Ayodeji', 'last_name': 'Odufowokan'}"
      ]
     },
     "execution_count": 65,
     "metadata": {
      "tags": []
     },
     "output_type": "execute_result"
    }
   ],
   "source": [
    "dict = {\"first_name\" : \"Ayodeji\", \"last_name\" : \"Odufowokan\", \"Age\" : 22, \"Sex\" : \"Male\"}\n",
    "dict.pop(\"Sex\")\n",
    "dict"
   ]
  },
  {
   "cell_type": "code",
   "execution_count": 67,
   "metadata": {
    "colab": {
     "base_uri": "https://localhost:8080/",
     "height": 35
    },
    "colab_type": "code",
    "id": "3bOxfOV9kFr-",
    "outputId": "027a6cd3-5ea0-462f-9a5f-5861831a9861"
   },
   "outputs": [
    {
     "data": {
      "text/plain": [
       "('Sex', 'Male')"
      ]
     },
     "execution_count": 67,
     "metadata": {
      "tags": []
     },
     "output_type": "execute_result"
    }
   ],
   "source": [
    "dict = {\"first_name\" : \"Ayodeji\", \"last_name\" : \"Odufowokan\", \"Age\" : 22, \"Sex\" : \"Male\"}\n",
    "dict.popitem()"
   ]
  },
  {
   "cell_type": "code",
   "execution_count": 75,
   "metadata": {
    "colab": {
     "base_uri": "https://localhost:8080/",
     "height": 109
    },
    "colab_type": "code",
    "id": "skVG5pC4kb-A",
    "outputId": "36421e9a-8a19-4039-9ce6-ddd0f452c5ec"
   },
   "outputs": [
    {
     "data": {
      "text/plain": [
       "{'Age': 22,\n",
       " 'Religion': 'Christianity',\n",
       " 'Sex': 'Male',\n",
       " 'first_name': 'Ayodeji',\n",
       " 'last_name': 'Odufowokan'}"
      ]
     },
     "execution_count": 75,
     "metadata": {
      "tags": []
     },
     "output_type": "execute_result"
    }
   ],
   "source": [
    "dict = {\"first_name\" : \"Ayodeji\", \"last_name\" : \"Odufowokan\", \"Age\" : 22, \"Sex\" : \"Male\"}\n",
    "dict.setdefault(\"Religion\", \"Christianity\")\n",
    "dict"
   ]
  },
  {
   "cell_type": "code",
   "execution_count": 84,
   "metadata": {
    "colab": {
     "base_uri": "https://localhost:8080/",
     "height": 35
    },
    "colab_type": "code",
    "id": "HCbCe-jUkjN0",
    "outputId": "049e46b3-447f-463f-a16a-ceaf9de6cd2b"
   },
   "outputs": [
    {
     "data": {
      "text/plain": [
       "{'Religion': 'Christianity'}"
      ]
     },
     "execution_count": 84,
     "metadata": {
      "tags": []
     },
     "output_type": "execute_result"
    }
   ],
   "source": [
    "dict = {\"first_name\" : \"Ayodeji\", \"last_name\" : \"Odufowokan\", \"Age\" : 22, \"Sex\" : \"Male\"}\n",
    "dict2 = {\"Religion\" : \"Christianity\"}\n",
    "dict.update(dict2)\n",
    "dict2"
   ]
  },
  {
   "cell_type": "code",
   "execution_count": 85,
   "metadata": {
    "colab": {
     "base_uri": "https://localhost:8080/",
     "height": 35
    },
    "colab_type": "code",
    "id": "osxSKw0vmqKE",
    "outputId": "f8890471-ddc6-44a4-cf69-faa7a6bc2800"
   },
   "outputs": [
    {
     "data": {
      "text/plain": [
       "dict_values(['Ayodeji', 'Odufowokan', 22, 'Male'])"
      ]
     },
     "execution_count": 85,
     "metadata": {
      "tags": []
     },
     "output_type": "execute_result"
    }
   ],
   "source": [
    "dict = {\"first_name\" : \"Ayodeji\", \"last_name\" : \"Odufowokan\", \"Age\" : 22, \"Sex\" : \"Male\"}\n",
    "dict.values()"
   ]
  },
  {
   "cell_type": "markdown",
   "metadata": {
    "colab_type": "text",
    "id": "Bmcx9XLIoasl"
   },
   "source": [
    "\n",
    "\n",
    "\n",
    "3. Set and its default functions"
   ]
  },
  {
   "cell_type": "code",
   "execution_count": 0,
   "metadata": {
    "colab": {},
    "colab_type": "code",
    "id": "pEKP6A7voYdi"
   },
   "outputs": [],
   "source": [
    "# Define the set variable\n",
    "set = {1, 2, 3, 'name', 3.142, 'people', 'class', 4, 5, 6, 3, 4, 5}\n"
   ]
  },
  {
   "cell_type": "code",
   "execution_count": 89,
   "metadata": {
    "colab": {
     "base_uri": "https://localhost:8080/",
     "height": 35
    },
    "colab_type": "code",
    "id": "CXccAhLXpCMS",
    "outputId": "951c4d2d-ebc2-492f-b2f5-7fe9e9ccf655"
   },
   "outputs": [
    {
     "data": {
      "text/plain": [
       "{1, 2, 3, 3.142, 4, 5, 6, 'class', 'name', 'people'}"
      ]
     },
     "execution_count": 89,
     "metadata": {
      "tags": []
     },
     "output_type": "execute_result"
    }
   ],
   "source": [
    "# Print the set variable\n",
    "set"
   ]
  },
  {
   "cell_type": "code",
   "execution_count": 95,
   "metadata": {
    "colab": {
     "base_uri": "https://localhost:8080/",
     "height": 35
    },
    "colab_type": "code",
    "id": "J9du0LcmprMN",
    "outputId": "e61b9ae8-d148-40fb-a43a-1fbf441364ce"
   },
   "outputs": [
    {
     "data": {
      "text/plain": [
       "{1, 12, 2, 3, 3.142, 4, 5, 6, 'class', 'name', 'people'}"
      ]
     },
     "execution_count": 95,
     "metadata": {
      "tags": []
     },
     "output_type": "execute_result"
    }
   ],
   "source": [
    "# Check Data type of set variable \n",
    "set = {1, 2, 3, 'name', 3.142, 'people', 'class', 4, 5, 6, 3, 4, 5}\n",
    "set.add(12)\n",
    "set"
   ]
  },
  {
   "cell_type": "code",
   "execution_count": 97,
   "metadata": {
    "colab": {
     "base_uri": "https://localhost:8080/",
     "height": 35
    },
    "colab_type": "code",
    "id": "E1jwT8ooqDbU",
    "outputId": "2a470786-00eb-4b7a-c239-d7aef7990de8"
   },
   "outputs": [
    {
     "data": {
      "text/plain": [
       "set()"
      ]
     },
     "execution_count": 97,
     "metadata": {
      "tags": []
     },
     "output_type": "execute_result"
    }
   ],
   "source": [
    "set = {1, 2, 3, 'name', 3.142, 'people', 'class', 4, 5, 6, 3, 4, 5}\n",
    "set.clear()\n",
    "set"
   ]
  },
  {
   "cell_type": "code",
   "execution_count": 98,
   "metadata": {
    "colab": {
     "base_uri": "https://localhost:8080/",
     "height": 35
    },
    "colab_type": "code",
    "id": "ZZjVuG7kqJsX",
    "outputId": "3cf6e2f6-560b-4dbd-9926-2a7333cf1bf2"
   },
   "outputs": [
    {
     "data": {
      "text/plain": [
       "{1, 2, 3, 3.142, 4, 5, 6, 'class', 'name', 'people'}"
      ]
     },
     "execution_count": 98,
     "metadata": {
      "tags": []
     },
     "output_type": "execute_result"
    }
   ],
   "source": [
    "set = {1, 2, 3, 'name', 3.142, 'people', 'class', 4, 5, 6, 3, 4, 5}\n",
    "set.copy()"
   ]
  },
  {
   "cell_type": "code",
   "execution_count": 0,
   "metadata": {
    "colab": {},
    "colab_type": "code",
    "id": "Og-su313h4c2"
   },
   "outputs": [],
   "source": [
    "set = {1, 2, 3, 'name', 3.142, 'people', 'class', 4, 5, 6, 3, 4, 5}\n",
    "set2 = {1,2,3,4,5,6,6,7,7,8,9,0,3,2,4}\n",
    "set.difference(set2)"
   ]
  },
  {
   "cell_type": "code",
   "execution_count": 100,
   "metadata": {
    "colab": {
     "base_uri": "https://localhost:8080/",
     "height": 35
    },
    "colab_type": "code",
    "id": "JUZp9X9jqY0j",
    "outputId": "f4a559b9-b52c-4227-e2d0-7376edb22a08"
   },
   "outputs": [
    {
     "data": {
      "text/plain": [
       "{3.142, 'class', 'name', 'people'}"
      ]
     },
     "execution_count": 100,
     "metadata": {
      "tags": []
     },
     "output_type": "execute_result"
    }
   ],
   "source": [
    "set = {1, 2, 3, 'name', 3.142, 'people', 'class', 4, 5, 6, 3, 4, 5}\n",
    "set2 = {1,2,3,4,5,6,6,7,7,8,9,0,3,2,4}\n",
    "set.difference_update(set2)\n",
    "set"
   ]
  },
  {
   "cell_type": "code",
   "execution_count": 0,
   "metadata": {
    "colab": {},
    "colab_type": "code",
    "id": "tsAeZz35qxtm"
   },
   "outputs": [],
   "source": [
    "set = {1, 2, 3, 'name', 3.142, 'people', 'class', 4, 5, 6, 3, 4, 5}\n",
    "set.discard(5)\n",
    "set"
   ]
  },
  {
   "cell_type": "code",
   "execution_count": 0,
   "metadata": {
    "colab": {},
    "colab_type": "code",
    "id": "z5T1EGn7hKun"
   },
   "outputs": [],
   "source": [
    "set = {1, 2, 3, 'name', 3.142, 'people', 'class', 4, 5, 6, 3, 4, 5}\n",
    "set2 = {1,2,3,4,5,6,6,7,7,8,9,0,3,2,4}\n",
    "set.intersection(set2)"
   ]
  },
  {
   "cell_type": "code",
   "execution_count": 0,
   "metadata": {
    "colab": {},
    "colab_type": "code",
    "id": "PrKim0QpiBhC"
   },
   "outputs": [],
   "source": [
    "set = {1, 2, 3, 'name', 3.142, 'people', 'class', 4, 5, 6, 3, 4, 5}\n",
    "set2 = {1,2,3,4,5,6,6,7,7,8,9,0,3,2,4}\n",
    "set.intersection_update(set2)\n",
    "set"
   ]
  },
  {
   "cell_type": "code",
   "execution_count": 0,
   "metadata": {
    "colab": {},
    "colab_type": "code",
    "id": "omEI-58UiFOA"
   },
   "outputs": [],
   "source": [
    "set = {1, 2, 3, 'name', 3.142, 'people', 'class', 4, 5, 6, 3, 4, 5}\n",
    "set2 = {1,2,3,4,5,6,6,7,7,8,9,0,3,2,4}\n",
    "set.isdisjoint(set2)"
   ]
  },
  {
   "cell_type": "code",
   "execution_count": 0,
   "metadata": {
    "colab": {},
    "colab_type": "code",
    "id": "gWHVI4xciH0t"
   },
   "outputs": [],
   "source": [
    "set = {1, 2, 3, 'name', 3.142, 'people', 'class', 4, 5, 6, 3, 4, 5}\n",
    "set2 = {1,2,3,4,5,6,6,7,7,8,9,0,3,2,4}\n",
    "set.issubset(set2)"
   ]
  },
  {
   "cell_type": "code",
   "execution_count": 0,
   "metadata": {
    "colab": {},
    "colab_type": "code",
    "id": "Y0ZCIaTgiKdP"
   },
   "outputs": [],
   "source": [
    "set = {1, 2, 3, 'name', 3.142, 'people', 'class', 4, 5, 6, 3, 4, 5}\n",
    "set2 = {1,2,3,4,5,}\n",
    "set.issuperset(set2)"
   ]
  },
  {
   "cell_type": "code",
   "execution_count": 0,
   "metadata": {
    "colab": {},
    "colab_type": "code",
    "id": "48ZvNkBtiNus"
   },
   "outputs": [],
   "source": [
    "set = {1, 2, 3, 'name', 3.142, 'people', 'class', 4, 5, 6, 3, 4, 5}\n",
    "set.pop()"
   ]
  },
  {
   "cell_type": "code",
   "execution_count": 0,
   "metadata": {
    "colab": {},
    "colab_type": "code",
    "id": "TQluVvmPiQs_"
   },
   "outputs": [],
   "source": [
    "set = {1, 2, 3, 'name', 3.142, 'people', 'class', 4, 5, 6, 3, 4, 5}\n",
    "set.remove(\"people\")\n",
    "set"
   ]
  },
  {
   "cell_type": "code",
   "execution_count": 0,
   "metadata": {
    "colab": {},
    "colab_type": "code",
    "id": "EilVtr_OiV22"
   },
   "outputs": [],
   "source": [
    "set = {1, 2, 3, 'name', 3.142, 'people', 'class', 4, 5, 6, 3, 4, 5}\n",
    "set2 = {1,2,3,4,5,6,6,7,7,8,9,0,3,2,4}\n",
    "set.symmetric_difference(set2)"
   ]
  },
  {
   "cell_type": "code",
   "execution_count": 0,
   "metadata": {
    "colab": {},
    "colab_type": "code",
    "id": "BYSn8Af_iY2R"
   },
   "outputs": [],
   "source": [
    "set = {1, 2, 3, 'name', 3.142, 'people', 'class', 4, 5, 6, 3, 4, 5}\n",
    "set2 = {1,2,3,4,5,6,6,7,7,8,9,0,3,2,4}\n",
    "set.symmetric_difference_update(set2)\n",
    "set"
   ]
  },
  {
   "cell_type": "code",
   "execution_count": 0,
   "metadata": {
    "colab": {},
    "colab_type": "code",
    "id": "L9X5FyzpibQV"
   },
   "outputs": [],
   "source": [
    "set = {1, 2, 3, 'name', 3.142, 'people', 'class', 4, 5, 6, 3, 4, 5}\n",
    "set2 = {1,2,3,4,5,6,6,7,7,8,9,0,3,2,4}\n",
    "set.union(set2)"
   ]
  },
  {
   "cell_type": "code",
   "execution_count": 0,
   "metadata": {
    "colab": {},
    "colab_type": "code",
    "id": "3TD8PGG4idNm"
   },
   "outputs": [],
   "source": [
    "set = {1, 2, 3, 'name', 3.142, 'people', 'class', 4, 5, 6, 3, 4, 5}\n",
    "list = [5,6,7,8,9]\n",
    "set.update(list)\n",
    "set"
   ]
  },
  {
   "cell_type": "markdown",
   "metadata": {
    "colab_type": "text",
    "id": "dl76aYqPiln5"
   },
   "source": [
    "\n",
    "\n",
    "4. Tuple and its default methods"
   ]
  },
  {
   "cell_type": "code",
   "execution_count": 0,
   "metadata": {
    "colab": {},
    "colab_type": "code",
    "id": "THXVg1QHikBS"
   },
   "outputs": [],
   "source": [
    "# Define the tup variable\n",
    "tup = (\"Username\", \"Password\", \"Ayscode\", \"1234567\")"
   ]
  },
  {
   "cell_type": "code",
   "execution_count": 0,
   "metadata": {
    "colab": {},
    "colab_type": "code",
    "id": "YsLj0AlNif4W"
   },
   "outputs": [],
   "source": [
    "# Print the tup variable\n",
    "tup"
   ]
  },
  {
   "cell_type": "code",
   "execution_count": 0,
   "metadata": {
    "colab": {},
    "colab_type": "code",
    "id": "EYbql9Rsis3a"
   },
   "outputs": [],
   "source": [
    "# Check Data type of tup variable \n",
    "type(tup)"
   ]
  },
  {
   "cell_type": "code",
   "execution_count": 0,
   "metadata": {
    "colab": {},
    "colab_type": "code",
    "id": "XdEkFXgwivgR"
   },
   "outputs": [],
   "source": [
    "tup = (\"Username\", \"Password\", \"Ayscode\", \"1234567\")\n",
    "tup.count(\"Ayscode\")"
   ]
  },
  {
   "cell_type": "code",
   "execution_count": 0,
   "metadata": {
    "colab": {},
    "colab_type": "code",
    "id": "G_r6-02kiy36"
   },
   "outputs": [],
   "source": [
    "tup = (\"Username\", \"Password\", \"Ayscode\", \"1234567\")\n",
    "tup.index(\"Password\")"
   ]
  },
  {
   "cell_type": "markdown",
   "metadata": {
    "colab_type": "text",
    "id": "FrEgk_xbi5eK"
   },
   "source": [
    "\n",
    "\n",
    "5. String and 10 default methods"
   ]
  },
  {
   "cell_type": "code",
   "execution_count": 0,
   "metadata": {
    "colab": {},
    "colab_type": "code",
    "id": "InSI556qi06t"
   },
   "outputs": [],
   "source": [
    "# Define the string variable\n",
    "string = \"My name is Ayo\""
   ]
  },
  {
   "cell_type": "code",
   "execution_count": 0,
   "metadata": {
    "colab": {},
    "colab_type": "code",
    "id": "WXzm0Rrvi8AE"
   },
   "outputs": [],
   "source": [
    "# Print the string variable\n",
    "string"
   ]
  },
  {
   "cell_type": "code",
   "execution_count": 0,
   "metadata": {
    "colab": {},
    "colab_type": "code",
    "id": "PzxQ_Pf7i-KO"
   },
   "outputs": [],
   "source": [
    "# Check Data type of string variable \n",
    "type(string)"
   ]
  },
  {
   "cell_type": "code",
   "execution_count": 0,
   "metadata": {
    "colab": {},
    "colab_type": "code",
    "id": "oepEVfBLi_5U"
   },
   "outputs": [],
   "source": [
    "string = \"My name is Ayo\"\n",
    "string.capitalize()"
   ]
  },
  {
   "cell_type": "code",
   "execution_count": 0,
   "metadata": {
    "colab": {},
    "colab_type": "code",
    "id": "RjCoV9c0jCqk"
   },
   "outputs": [],
   "source": [
    "string = \"My name is Ayo\"\n",
    "string.casefold()"
   ]
  },
  {
   "cell_type": "code",
   "execution_count": 0,
   "metadata": {
    "colab": {},
    "colab_type": "code",
    "id": "10RscBYxjFTJ"
   },
   "outputs": [],
   "source": [
    "string = \"My name is Ayo\"\n",
    "string.center(4)"
   ]
  },
  {
   "cell_type": "code",
   "execution_count": 0,
   "metadata": {
    "colab": {},
    "colab_type": "code",
    "id": "hh6_u9xrjH2g"
   },
   "outputs": [],
   "source": [
    "string = \"My name is Ayo\"\n",
    "string.endswith(\"o\")"
   ]
  },
  {
   "cell_type": "code",
   "execution_count": 0,
   "metadata": {
    "colab": {},
    "colab_type": "code",
    "id": "AponB6kijKki"
   },
   "outputs": [],
   "source": [
    "string = \"My name is Ayo\"\n",
    "string.find(\"n\")"
   ]
  },
  {
   "cell_type": "code",
   "execution_count": 0,
   "metadata": {
    "colab": {},
    "colab_type": "code",
    "id": "HMhU7EBijMqg"
   },
   "outputs": [],
   "source": [
    "string = \"My name is Ayo\"\n",
    "string.index(\"i\")"
   ]
  },
  {
   "cell_type": "code",
   "execution_count": 0,
   "metadata": {
    "colab": {},
    "colab_type": "code",
    "id": "ArIIgcdFjOlJ"
   },
   "outputs": [],
   "source": [
    "string = \"My name is Ayo\"\n",
    "string.isalpha()"
   ]
  },
  {
   "cell_type": "code",
   "execution_count": 0,
   "metadata": {
    "colab": {},
    "colab_type": "code",
    "id": "3k1HN3jTjQ93"
   },
   "outputs": [],
   "source": [
    "string = \"My name is Ayo\"\n",
    "string.lower()"
   ]
  },
  {
   "cell_type": "code",
   "execution_count": 0,
   "metadata": {
    "colab": {},
    "colab_type": "code",
    "id": "H_H-GDC9jUOR"
   },
   "outputs": [],
   "source": [
    "string = \"My name is Ayo\"\n",
    "string.isnumeric()"
   ]
  },
  {
   "cell_type": "code",
   "execution_count": 0,
   "metadata": {
    "colab": {},
    "colab_type": "code",
    "id": "iGCIkJAFjY8h"
   },
   "outputs": [],
   "source": [
    "string = \"My name is Ayo\"\n",
    "string.isprintable()"
   ]
  },
  {
   "cell_type": "code",
   "execution_count": 0,
   "metadata": {
    "colab": {},
    "colab_type": "code",
    "id": "GUCRkugjjc1E"
   },
   "outputs": [],
   "source": [
    "string = \"My name is Ayo\"\n",
    "string.join(\"  \")"
   ]
  },
  {
   "cell_type": "code",
   "execution_count": 0,
   "metadata": {
    "colab": {},
    "colab_type": "code",
    "id": "QunrInBojehM"
   },
   "outputs": [],
   "source": [
    "string = \"My name is Ayo\"\n",
    "string.replace(\"Ayo\", \"deji\")"
   ]
  },
  {
   "cell_type": "code",
   "execution_count": 0,
   "metadata": {
    "colab": {},
    "colab_type": "code",
    "id": "zA26hfnUjkY1"
   },
   "outputs": [],
   "source": [
    "string = \"My name is Ayo\"\n",
    "string.split()"
   ]
  },
  {
   "cell_type": "code",
   "execution_count": 0,
   "metadata": {
    "colab": {},
    "colab_type": "code",
    "id": "vgUYJn0ujlBu"
   },
   "outputs": [],
   "source": [
    "string = \"My name is Ayo\"\n",
    "string.startswith(\"y\")"
   ]
  },
  {
   "cell_type": "code",
   "execution_count": 0,
   "metadata": {
    "colab": {},
    "colab_type": "code",
    "id": "ezQF0QAAjnaD"
   },
   "outputs": [],
   "source": []
  }
 ],
 "metadata": {
  "colab": {
   "name": "Day 2 - FCS - Odufowokan_Ayodeji.ipynb",
   "provenance": []
  },
  "kernelspec": {
   "display_name": "Python 3",
   "language": "python",
   "name": "python3"
  },
  "language_info": {
   "codemirror_mode": {
    "name": "ipython",
    "version": 3
   },
   "file_extension": ".py",
   "mimetype": "text/x-python",
   "name": "python",
   "nbconvert_exporter": "python",
   "pygments_lexer": "ipython3",
   "version": "3.7.6"
  }
 },
 "nbformat": 4,
 "nbformat_minor": 1
}
