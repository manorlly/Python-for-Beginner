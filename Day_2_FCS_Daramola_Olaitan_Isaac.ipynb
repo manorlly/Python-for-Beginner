{
  "nbformat": 4,
  "nbformat_minor": 0,
  "metadata": {
    "colab": {
      "name": "Day_2_FCS_Daramola_Olaitan_Isaac.ipynb",
      "provenance": [],
      "collapsed_sections": [],
      "include_colab_link": true
    },
    "kernelspec": {
      "display_name": "Python 3",
      "language": "python",
      "name": "python3"
    },
    "language_info": {
      "codemirror_mode": {
        "name": "ipython",
        "version": 3
      },
      "file_extension": ".py",
      "mimetype": "text/x-python",
      "name": "python",
      "nbconvert_exporter": "python",
      "pygments_lexer": "ipython3",
      "version": "3.7.6"
    }
  },
  "cells": [
    {
      "cell_type": "markdown",
      "metadata": {
        "id": "view-in-github",
        "colab_type": "text"
      },
      "source": [
        "<a href=\"https://colab.research.google.com/github/manorlly/Python-for-Beginner/blob/master/Day_2_FCS_Daramola_Olaitan_Isaac.ipynb\" target=\"_parent\"><img src=\"https://colab.research.google.com/assets/colab-badge.svg\" alt=\"Open In Colab\"/></a>"
      ]
    },
    {
      "cell_type": "markdown",
      "metadata": {
        "colab_type": "text",
        "id": "8fHuZcqBgjir"
      },
      "source": [
        "**Python Data Types and their default Functions**"
      ]
    },
    {
      "cell_type": "markdown",
      "metadata": {
        "colab_type": "text",
        "id": "cUPctHsdgxLB"
      },
      "source": [
        "\n",
        "\n",
        "1. List and its default Functions"
      ]
    },
    {
      "cell_type": "code",
      "metadata": {
        "colab_type": "code",
        "id": "mOeUbjfmPbRe",
        "colab": {}
      },
      "source": [
        "# Define the list variable\n",
        "list = [1, 2, 3, \"name\", 3.142, \"people\", \"class\", 4, 5, 6 ]"
      ],
      "execution_count": null,
      "outputs": []
    },
    {
      "cell_type": "code",
      "metadata": {
        "colab_type": "code",
        "id": "PNtdQPrcZ8Ta",
        "colab": {
          "base_uri": "https://localhost:8080/",
          "height": 35
        },
        "outputId": "43dcc30b-b4b2-4a4c-d2ea-416dc1252362"
      },
      "source": [
        "# Print the List variable\n",
        "list"
      ],
      "execution_count": null,
      "outputs": [
        {
          "output_type": "execute_result",
          "data": {
            "text/plain": [
              "[1, 2, 3, 'name', 3.142, 'people', 'class', 4, 5, 6]"
            ]
          },
          "metadata": {
            "tags": []
          },
          "execution_count": 2
        }
      ]
    },
    {
      "cell_type": "code",
      "metadata": {
        "colab_type": "code",
        "id": "Y1taII8Kj_F3",
        "colab": {},
        "outputId": "d4da7337-1987-41c7-cca4-8777ea59c61d"
      },
      "source": [
        "# Check Data type of list variable \n",
        "type(list)"
      ],
      "execution_count": null,
      "outputs": [
        {
          "output_type": "execute_result",
          "data": {
            "text/plain": [
              "list"
            ]
          },
          "metadata": {
            "tags": []
          },
          "execution_count": 7
        }
      ]
    },
    {
      "cell_type": "code",
      "metadata": {
        "colab_type": "code",
        "id": "RH9VTTn6aFVK",
        "colab": {
          "base_uri": "https://localhost:8080/",
          "height": 35
        },
        "outputId": "1e00f6b4-72a3-4a03-993f-eee5ac445e37"
      },
      "source": [
        "list.append(2.2)\n",
        "list"
      ],
      "execution_count": null,
      "outputs": [
        {
          "output_type": "execute_result",
          "data": {
            "text/plain": [
              "[1, 2, 3, 'name', 3.142, 'people', 'class', 4, 5, 6, 2.2]"
            ]
          },
          "metadata": {
            "tags": []
          },
          "execution_count": 4
        }
      ]
    },
    {
      "cell_type": "code",
      "metadata": {
        "colab_type": "code",
        "id": "rMJJUL8paJrO",
        "colab": {
          "base_uri": "https://localhost:8080/",
          "height": 35
        },
        "outputId": "2053b849-57de-475a-dd82-4ff13093fe63"
      },
      "source": [
        "list.clear()\n",
        "list"
      ],
      "execution_count": null,
      "outputs": [
        {
          "output_type": "execute_result",
          "data": {
            "text/plain": [
              "[]"
            ]
          },
          "metadata": {
            "tags": []
          },
          "execution_count": 7
        }
      ]
    },
    {
      "cell_type": "code",
      "metadata": {
        "colab_type": "code",
        "id": "ab6PDxuhaX_M",
        "colab": {
          "base_uri": "https://localhost:8080/",
          "height": 35
        },
        "outputId": "8583a36c-bde7-4d2c-88c9-129566929ee0"
      },
      "source": [
        "list = [1, 2, 3, \"name\", 3.142, \"people\", \"class\", 4, 5, 6 ]\n",
        "list"
      ],
      "execution_count": null,
      "outputs": [
        {
          "output_type": "execute_result",
          "data": {
            "text/plain": [
              "[1, 2, 3, 'name', 3.142, 'people', 'class', 4, 5, 6]"
            ]
          },
          "metadata": {
            "tags": []
          },
          "execution_count": 8
        }
      ]
    },
    {
      "cell_type": "code",
      "metadata": {
        "colab_type": "code",
        "id": "TBJerEl7agm4",
        "colab": {
          "base_uri": "https://localhost:8080/",
          "height": 35
        },
        "outputId": "0d5b98ff-f960-45c5-882c-e706eba5898e"
      },
      "source": [
        "listy = list.copy()\n",
        "listy"
      ],
      "execution_count": null,
      "outputs": [
        {
          "output_type": "execute_result",
          "data": {
            "text/plain": [
              "[1, 2, 3, 'name', 3.142, 'people', 'class', 4, 5, 6]"
            ]
          },
          "metadata": {
            "tags": []
          },
          "execution_count": 8
        }
      ]
    },
    {
      "cell_type": "code",
      "metadata": {
        "colab_type": "code",
        "id": "OSPNxCPiaoT-",
        "colab": {
          "base_uri": "https://localhost:8080/",
          "height": 35
        },
        "outputId": "7b8a0daf-ef31-4880-a7b1-ab2cabc1cc5c"
      },
      "source": [
        "list = [1, 2, 3, \"name\", 3.142, \"people\", \"class\", 2, 4, 5, 6, 2, 3]\n",
        "list.count(2)"
      ],
      "execution_count": null,
      "outputs": [
        {
          "output_type": "execute_result",
          "data": {
            "text/plain": [
              "3"
            ]
          },
          "metadata": {
            "tags": []
          },
          "execution_count": 15
        }
      ]
    },
    {
      "cell_type": "code",
      "metadata": {
        "colab_type": "code",
        "id": "s4IAE2IAfKWw",
        "colab": {
          "base_uri": "https://localhost:8080/",
          "height": 35
        },
        "outputId": "b1a1ce6b-6abd-4f49-c51a-e3bd62a90fab"
      },
      "source": [
        "list = [1, 2, 3, 3.4, 6, 7, 6, 5, 4]\n",
        "list.sort()\n",
        "list"
      ],
      "execution_count": null,
      "outputs": [
        {
          "output_type": "execute_result",
          "data": {
            "text/plain": [
              "[1, 2, 3, 3.4, 4, 5, 6, 6, 7]"
            ]
          },
          "metadata": {
            "tags": []
          },
          "execution_count": 44
        }
      ]
    },
    {
      "cell_type": "markdown",
      "metadata": {
        "colab_type": "text",
        "id": "fRPvzSgBhOZq"
      },
      "source": [
        "\n",
        "\n",
        "2. Dictionary and its default functions"
      ]
    },
    {
      "cell_type": "code",
      "metadata": {
        "colab_type": "code",
        "id": "cdcVbT8YfjAo",
        "colab": {
          "base_uri": "https://localhost:8080/",
          "height": 34
        },
        "outputId": "3eef6d23-eabb-4e2c-fbb6-6ab4bb1c67e4"
      },
      "source": [
        "# Print the dict variable\n",
        "dict"
      ],
      "execution_count": null,
      "outputs": [
        {
          "output_type": "execute_result",
          "data": {
            "text/plain": [
              "dict"
            ]
          },
          "metadata": {
            "tags": []
          },
          "execution_count": 1
        }
      ]
    },
    {
      "cell_type": "code",
      "metadata": {
        "colab_type": "code",
        "id": "QmXp2OU7fPi1",
        "colab": {}
      },
      "source": [
        "# Define the dict variable\n",
        "dict = {\"first_name\" : \"Daramola\", \"last_name\" : \"Olaitan\", \"Age\" : 32, \"Sex\" : \"Male\"}"
      ],
      "execution_count": null,
      "outputs": []
    },
    {
      "cell_type": "code",
      "metadata": {
        "colab_type": "code",
        "id": "Z_Kz0u2jkd-q",
        "colab": {},
        "outputId": "880c9af1-e732-4ad2-f594-39406da9915c"
      },
      "source": [
        "# Check Data type of dict variable \n",
        "type(dict)"
      ],
      "execution_count": null,
      "outputs": [
        {
          "output_type": "execute_result",
          "data": {
            "text/plain": [
              "dict"
            ]
          },
          "metadata": {
            "tags": []
          },
          "execution_count": 12
        }
      ]
    },
    {
      "cell_type": "code",
      "metadata": {
        "colab_type": "code",
        "id": "qJugnOXLh-a4",
        "colab": {
          "base_uri": "https://localhost:8080/",
          "height": 34
        },
        "outputId": "289be6c7-f7a9-423b-88d8-30e527af2aff"
      },
      "source": [
        "dict.clear()\n",
        "dict"
      ],
      "execution_count": null,
      "outputs": [
        {
          "output_type": "execute_result",
          "data": {
            "text/plain": [
              "{}"
            ]
          },
          "metadata": {
            "tags": []
          },
          "execution_count": 6
        }
      ]
    },
    {
      "cell_type": "code",
      "metadata": {
        "colab_type": "code",
        "id": "w0sXWkA-iESZ",
        "colab": {
          "base_uri": "https://localhost:8080/",
          "height": 85
        },
        "outputId": "65ff152e-a96e-4d54-b86d-5f53d7e47bca"
      },
      "source": [
        "# dict = {\"first_name\" : \"Olaitan\", \"last_name\" : \"Daramola\", \"Age\" : 32, \"Sex\" : \"Male\"}\n",
        "dict = {\"Anime\" : ['ghj','dfgh','ghj','ghjk'], \"last_name\" : \"Daramola\", \"Age\" : 32, \"Sex\" : \"Male\"}\n",
        "dicty = dict.copy()\n",
        "dicty"
      ],
      "execution_count": null,
      "outputs": [
        {
          "output_type": "execute_result",
          "data": {
            "text/plain": [
              "{'Age': 32,\n",
              " 'Anime': ['ghj', 'dfgh', 'ghj', 'ghjk'],\n",
              " 'Sex': 'Male',\n",
              " 'last_name': 'Daramola'}"
            ]
          },
          "metadata": {
            "tags": []
          },
          "execution_count": 5
        }
      ]
    },
    {
      "cell_type": "code",
      "metadata": {
        "id": "0gUQQvopFlXf",
        "colab_type": "code",
        "colab": {
          "base_uri": "https://localhost:8080/",
          "height": 51
        },
        "outputId": "45e0550e-9b9e-4dff-9bb1-43e260692f04"
      },
      "source": [
        "#from random import shuffle\n",
        "import random\n",
        "dict['Anime']\n",
        "list = dict['Anime']\n",
        "print(list)\n",
        "random.shuffle(list)\n",
        "print(list)"
      ],
      "execution_count": null,
      "outputs": [
        {
          "output_type": "stream",
          "text": [
            "['ghj', 'dfgh', 'ghj', 'ghjk']\n",
            "['dfgh', 'ghjk', 'ghj', 'ghj']\n"
          ],
          "name": "stdout"
        }
      ]
    },
    {
      "cell_type": "code",
      "metadata": {
        "colab_type": "code",
        "id": "0TWRt11ziNnC",
        "colab": {
          "base_uri": "https://localhost:8080/",
          "height": 34
        },
        "outputId": "849f67a5-359f-46b0-8428-a5196c47df8a"
      },
      "source": [
        "list = [1, 2, 3]\n",
        "dict.fromkeys(list, \"Age\")"
      ],
      "execution_count": null,
      "outputs": [
        {
          "output_type": "execute_result",
          "data": {
            "text/plain": [
              "{1: 'Age', 2: 'Age', 3: 'Age'}"
            ]
          },
          "metadata": {
            "tags": []
          },
          "execution_count": 55
        }
      ]
    },
    {
      "cell_type": "code",
      "metadata": {
        "colab_type": "code",
        "id": "DQqk2MYRiffQ",
        "colab": {
          "base_uri": "https://localhost:8080/",
          "height": 34
        },
        "outputId": "c0fd6976-47ae-4750-b6d3-f9178cdaa97a"
      },
      "source": [
        "dict = {\"first_name\" : \"Olaitan\", \"last_name\" : \"Daramola\", \"Age\" : 22, \"Sex\" : \"Male\"}\n",
        "dict.get(\"first_name\")"
      ],
      "execution_count": null,
      "outputs": [
        {
          "output_type": "execute_result",
          "data": {
            "text/plain": [
              "'Olaitan'"
            ]
          },
          "metadata": {
            "tags": []
          },
          "execution_count": 54
        }
      ]
    },
    {
      "cell_type": "code",
      "metadata": {
        "colab_type": "code",
        "id": "DgkVdhtqjnVz",
        "colab": {
          "base_uri": "https://localhost:8080/",
          "height": 34
        },
        "outputId": "739aeb3f-bcdb-4ab2-ea81-d7ef74629722"
      },
      "source": [
        "dict.items()"
      ],
      "execution_count": null,
      "outputs": [
        {
          "output_type": "execute_result",
          "data": {
            "text/plain": [
              "dict_items([('first_name', 'Olaitan'), ('last_name', 'Daramola'), ('Age', 22), ('Sex', 'Male')])"
            ]
          },
          "metadata": {
            "tags": []
          },
          "execution_count": 9
        }
      ]
    },
    {
      "cell_type": "markdown",
      "metadata": {
        "colab_type": "text",
        "id": "Bmcx9XLIoasl"
      },
      "source": [
        "\n",
        "\n",
        "\n",
        "3. Set and its default functions"
      ]
    },
    {
      "cell_type": "code",
      "metadata": {
        "colab_type": "code",
        "id": "pEKP6A7voYdi",
        "colab": {}
      },
      "source": [
        "# Define the set variable\n",
        "set = {1, 2, 3, 'name', 3.142, 'people', 'class', 4, 5, 6, 3, 4, 5}\n"
      ],
      "execution_count": null,
      "outputs": []
    },
    {
      "cell_type": "code",
      "metadata": {
        "colab_type": "code",
        "id": "CXccAhLXpCMS",
        "colab": {
          "base_uri": "https://localhost:8080/",
          "height": 35
        },
        "outputId": "951c4d2d-ebc2-492f-b2f5-7fe9e9ccf655"
      },
      "source": [
        "# Print the set variable\n",
        "set"
      ],
      "execution_count": null,
      "outputs": [
        {
          "output_type": "execute_result",
          "data": {
            "text/plain": [
              "{1, 2, 3, 3.142, 4, 5, 6, 'class', 'name', 'people'}"
            ]
          },
          "metadata": {
            "tags": []
          },
          "execution_count": 89
        }
      ]
    },
    {
      "cell_type": "code",
      "metadata": {
        "colab_type": "code",
        "id": "J9du0LcmprMN",
        "colab": {
          "base_uri": "https://localhost:8080/",
          "height": 35
        },
        "outputId": "e61b9ae8-d148-40fb-a43a-1fbf441364ce"
      },
      "source": [
        "# Check Data type of set variable \n",
        "set = {1, 2, 3, 'name', 3.142, 'people', 'class', 4, 5, 6, 3, 4, 5}\n",
        "set.add(12)\n",
        "set"
      ],
      "execution_count": null,
      "outputs": [
        {
          "output_type": "execute_result",
          "data": {
            "text/plain": [
              "{1, 12, 2, 3, 3.142, 4, 5, 6, 'class', 'name', 'people'}"
            ]
          },
          "metadata": {
            "tags": []
          },
          "execution_count": 95
        }
      ]
    },
    {
      "cell_type": "code",
      "metadata": {
        "colab_type": "code",
        "id": "E1jwT8ooqDbU",
        "colab": {
          "base_uri": "https://localhost:8080/",
          "height": 35
        },
        "outputId": "2a470786-00eb-4b7a-c239-d7aef7990de8"
      },
      "source": [
        "set = {1, 2, 3, 'name', 3.142, 'people', 'class', 4, 5, 6, 3, 4, 5}\n",
        "set.clear()\n",
        "set"
      ],
      "execution_count": null,
      "outputs": [
        {
          "output_type": "execute_result",
          "data": {
            "text/plain": [
              "set()"
            ]
          },
          "metadata": {
            "tags": []
          },
          "execution_count": 97
        }
      ]
    },
    {
      "cell_type": "code",
      "metadata": {
        "colab_type": "code",
        "id": "ZZjVuG7kqJsX",
        "colab": {
          "base_uri": "https://localhost:8080/",
          "height": 35
        },
        "outputId": "3cf6e2f6-560b-4dbd-9926-2a7333cf1bf2"
      },
      "source": [
        "set = {1, 2, 3, 'name', 3.142, 'people', 'class', 4, 5, 6, 3, 4, 5}\n",
        "set.copy()"
      ],
      "execution_count": null,
      "outputs": [
        {
          "output_type": "execute_result",
          "data": {
            "text/plain": [
              "{1, 2, 3, 3.142, 4, 5, 6, 'class', 'name', 'people'}"
            ]
          },
          "metadata": {
            "tags": []
          },
          "execution_count": 25
        }
      ]
    },
    {
      "cell_type": "code",
      "metadata": {
        "colab_type": "code",
        "id": "Og-su313h4c2",
        "colab": {},
        "outputId": "413fe08b-9ca2-41ca-8e2d-5c7917e3cb50"
      },
      "source": [
        "set = {1, 2, 3, 'name', 3.142, 'people', 'class', 4, 5, 6, 3, 4, 5}\n",
        "set2 = {1,2,3,4,5,6,6,7,7,8,9,0,3,2,4}\n",
        "set.difference(set2)\n",
        "set2.difference(set)"
      ],
      "execution_count": null,
      "outputs": [
        {
          "output_type": "execute_result",
          "data": {
            "text/plain": [
              "{0, 7, 8, 9}"
            ]
          },
          "metadata": {
            "tags": []
          },
          "execution_count": 28
        }
      ]
    },
    {
      "cell_type": "code",
      "metadata": {
        "colab_type": "code",
        "id": "JUZp9X9jqY0j",
        "colab": {
          "base_uri": "https://localhost:8080/",
          "height": 35
        },
        "outputId": "f4a559b9-b52c-4227-e2d0-7376edb22a08"
      },
      "source": [
        "set = {1, 2, 3, 'name', 3.142, 'people', 'class', 4, 5, 6, 3, 4, 5}\n",
        "set2 = {1,2,3,4,5,6,6,7,7,8,9,0,3,2,4}\n",
        "set.difference_update(set2)\n",
        "set"
      ],
      "execution_count": null,
      "outputs": [
        {
          "output_type": "execute_result",
          "data": {
            "text/plain": [
              "{3.142, 'class', 'name', 'people'}"
            ]
          },
          "metadata": {
            "tags": []
          },
          "execution_count": 32
        }
      ]
    },
    {
      "cell_type": "code",
      "metadata": {
        "colab_type": "code",
        "id": "L9X5FyzpibQV",
        "colab": {},
        "outputId": "90398b7b-2ab3-4673-c928-28147acefc37"
      },
      "source": [
        "set = {1, 2, 3, 'name', 3.142, 'people', 'class', 4, 5, 6, 3, 4, 5}\n",
        "set2 = {1,2,3,4,5,6,6,7,7,8,9,0,3,2,4}\n",
        "set.union(set2)"
      ],
      "execution_count": null,
      "outputs": [
        {
          "output_type": "execute_result",
          "data": {
            "text/plain": [
              "{0, 1, 2, 3, 3.142, 4, 5, 6, 7, 8, 9, 'class', 'name', 'people'}"
            ]
          },
          "metadata": {
            "tags": []
          },
          "execution_count": 54
        }
      ]
    },
    {
      "cell_type": "markdown",
      "metadata": {
        "colab_type": "text",
        "id": "dl76aYqPiln5"
      },
      "source": [
        "\n",
        "\n",
        "4. Tuple and its default methods"
      ]
    },
    {
      "cell_type": "code",
      "metadata": {
        "colab_type": "code",
        "id": "THXVg1QHikBS",
        "colab": {}
      },
      "source": [
        "# Define the tup variable\n",
        "tup = (\"Username\", \"Password\", \"manorlly\", \"1234567\")"
      ],
      "execution_count": null,
      "outputs": []
    },
    {
      "cell_type": "code",
      "metadata": {
        "colab_type": "code",
        "id": "YsLj0AlNif4W",
        "colab": {
          "base_uri": "https://localhost:8080/",
          "height": 34
        },
        "outputId": "bc6424e3-974f-4404-8822-f1dd5f3ad9e8"
      },
      "source": [
        "# Print the tup variable\n",
        "tup"
      ],
      "execution_count": null,
      "outputs": [
        {
          "output_type": "execute_result",
          "data": {
            "text/plain": [
              "('Username', 'Password', 'manorlly', '1234567')"
            ]
          },
          "metadata": {
            "tags": []
          },
          "execution_count": 48
        }
      ]
    },
    {
      "cell_type": "code",
      "metadata": {
        "colab_type": "code",
        "id": "EYbql9Rsis3a",
        "colab": {},
        "outputId": "407aa31a-33c3-446b-9f69-a8ca2053670a"
      },
      "source": [
        "# Check Data type of tup variable \n",
        "type(tup)"
      ],
      "execution_count": null,
      "outputs": [
        {
          "output_type": "execute_result",
          "data": {
            "text/plain": [
              "tuple"
            ]
          },
          "metadata": {
            "tags": []
          },
          "execution_count": 58
        }
      ]
    },
    {
      "cell_type": "code",
      "metadata": {
        "colab_type": "code",
        "id": "XdEkFXgwivgR",
        "colab": {
          "base_uri": "https://localhost:8080/",
          "height": 34
        },
        "outputId": "29a5e86e-fe1b-42c2-c85b-d56e55c1c85c"
      },
      "source": [
        "tup = (\"Username\", \"Password\", \"manorlly\", \"1234567\")\n",
        "tup.count(\"manorlly\")"
      ],
      "execution_count": null,
      "outputs": [
        {
          "output_type": "execute_result",
          "data": {
            "text/plain": [
              "1"
            ]
          },
          "metadata": {
            "tags": []
          },
          "execution_count": 47
        }
      ]
    },
    {
      "cell_type": "code",
      "metadata": {
        "colab_type": "code",
        "id": "G_r6-02kiy36",
        "colab": {},
        "outputId": "cdd03a92-dd70-433b-801d-54d992ffe960"
      },
      "source": [
        "tup = (\"Username\", \"Password\", \"manorlly\", \"1234567\")\n",
        "tup.index(\"Password\")"
      ],
      "execution_count": null,
      "outputs": [
        {
          "output_type": "execute_result",
          "data": {
            "text/plain": [
              "1"
            ]
          },
          "metadata": {
            "tags": []
          },
          "execution_count": 60
        }
      ]
    },
    {
      "cell_type": "markdown",
      "metadata": {
        "colab_type": "text",
        "id": "FrEgk_xbi5eK"
      },
      "source": [
        "\n",
        "\n",
        "5. String and 10 default methods"
      ]
    },
    {
      "cell_type": "code",
      "metadata": {
        "colab_type": "code",
        "id": "InSI556qi06t",
        "colab": {}
      },
      "source": [
        "# Define the string variable\n",
        "string = \"My name is Ola\""
      ],
      "execution_count": null,
      "outputs": []
    },
    {
      "cell_type": "markdown",
      "metadata": {
        "id": "0OTd_CFLMixJ",
        "colab_type": "text"
      },
      "source": [
        ""
      ]
    },
    {
      "cell_type": "code",
      "metadata": {
        "colab_type": "code",
        "id": "PzxQ_Pf7i-KO",
        "colab": {
          "base_uri": "https://localhost:8080/",
          "height": 34
        },
        "outputId": "f6432679-672d-42f3-fea7-d55117b72428"
      },
      "source": [
        "# Check Data type of string variable \n",
        "type(string)"
      ],
      "execution_count": null,
      "outputs": [
        {
          "output_type": "execute_result",
          "data": {
            "text/plain": [
              "str"
            ]
          },
          "metadata": {
            "tags": []
          },
          "execution_count": 22
        }
      ]
    },
    {
      "cell_type": "code",
      "metadata": {
        "colab_type": "code",
        "id": "oepEVfBLi_5U",
        "colab": {
          "base_uri": "https://localhost:8080/",
          "height": 34
        },
        "outputId": "c5a3f751-3ae9-44d0-dcdf-d8fd5777d6a2"
      },
      "source": [
        "string = \"My name is Ola\"\n",
        "string.capitalize()"
      ],
      "execution_count": null,
      "outputs": [
        {
          "output_type": "execute_result",
          "data": {
            "text/plain": [
              "'My name is ola'"
            ]
          },
          "metadata": {
            "tags": []
          },
          "execution_count": 42
        }
      ]
    },
    {
      "cell_type": "code",
      "metadata": {
        "colab_type": "code",
        "id": "RjCoV9c0jCqk",
        "colab": {
          "base_uri": "https://localhost:8080/",
          "height": 34
        },
        "outputId": "2564cdfd-cf66-4667-872c-44755d2ab17f"
      },
      "source": [
        "string = \"My name is Ola\"\n",
        "string.casefold()"
      ],
      "execution_count": null,
      "outputs": [
        {
          "output_type": "execute_result",
          "data": {
            "text/plain": [
              "'my name is ola'"
            ]
          },
          "metadata": {
            "tags": []
          },
          "execution_count": 24
        }
      ]
    },
    {
      "cell_type": "code",
      "metadata": {
        "colab_type": "code",
        "id": "10RscBYxjFTJ",
        "colab": {},
        "outputId": "f8b7407c-d433-4885-97a1-ae7b2fe3b0c9"
      },
      "source": [
        "string = \"My name is Ola\"\n",
        "string.center(4)"
      ],
      "execution_count": null,
      "outputs": [
        {
          "output_type": "execute_result",
          "data": {
            "text/plain": [
              "'My name is Ayo'"
            ]
          },
          "metadata": {
            "tags": []
          },
          "execution_count": 67
        }
      ]
    },
    {
      "cell_type": "code",
      "metadata": {
        "colab_type": "code",
        "id": "hh6_u9xrjH2g",
        "colab": {}
      },
      "source": [
        "string = \"My name is Ola\"\n",
        "string.endswith(\"a\")"
      ],
      "execution_count": null,
      "outputs": []
    },
    {
      "cell_type": "code",
      "metadata": {
        "colab_type": "code",
        "id": "AponB6kijKki",
        "colab": {}
      },
      "source": [
        "string = \"My name is Ola\"\n",
        "string.find(\"n\")"
      ],
      "execution_count": null,
      "outputs": []
    },
    {
      "cell_type": "code",
      "metadata": {
        "colab_type": "code",
        "id": "HMhU7EBijMqg",
        "colab": {}
      },
      "source": [
        "string = \"My name is Ola\"\n",
        "string.index(\"i\")"
      ],
      "execution_count": null,
      "outputs": []
    },
    {
      "cell_type": "code",
      "metadata": {
        "colab_type": "code",
        "id": "ArIIgcdFjOlJ",
        "colab": {}
      },
      "source": [
        "string = \"My name is Ola\"\n",
        "string.isalpha()"
      ],
      "execution_count": null,
      "outputs": []
    },
    {
      "cell_type": "code",
      "metadata": {
        "colab_type": "code",
        "id": "QunrInBojehM",
        "colab": {}
      },
      "source": [
        "string = \"My name is Ola\"\n",
        "string.replace(\"Ola\", \"itan\")"
      ],
      "execution_count": null,
      "outputs": []
    },
    {
      "cell_type": "code",
      "metadata": {
        "colab_type": "code",
        "id": "zA26hfnUjkY1",
        "colab": {}
      },
      "source": [
        "string = \"My name is Ola\"\n",
        "string.split()"
      ],
      "execution_count": null,
      "outputs": []
    },
    {
      "cell_type": "code",
      "metadata": {
        "colab_type": "code",
        "id": "ezQF0QAAjnaD",
        "colab": {}
      },
      "source": [
        ""
      ],
      "execution_count": null,
      "outputs": []
    }
  ]
}